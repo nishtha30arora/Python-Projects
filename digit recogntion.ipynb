{
 "cells": [
  {
   "cell_type": "code",
   "execution_count": null,
   "id": "4edbd0af-dfc4-4216-9b36-79bdc604542f",
   "metadata": {},
   "outputs": [],
   "source": [
    "!pip3 install tensorflow\n",
    "!pip install keras-tuner   #to decide how many dense layers are to be used"
   ]
  },
  {
   "cell_type": "code",
   "execution_count": 3,
   "id": "b91c6a93",
   "metadata": {},
   "outputs": [
    {
     "name": "stdout",
     "output_type": "stream",
     "text": [
      "Using TensorFlow backend\n"
     ]
    }
   ],
   "source": [
    "import keras_tuner "
   ]
  },
  {
   "cell_type": "code",
   "execution_count": 35,
   "id": "e2e3e284-b312-4f27-808b-23c494326d0f",
   "metadata": {
    "tags": []
   },
   "outputs": [],
   "source": [
    "import tensorflow as tf \n",
    "from tensorflow import keras\n",
    "from keras.models import Sequential\n",
    "from keras.layers import Dense\n",
    "from keras.layers import Dropout"
   ]
  },
  {
   "cell_type": "code",
   "execution_count": 5,
   "id": "7d3de28b-c939-495a-b59f-3678d0d2b27a",
   "metadata": {
    "tags": []
   },
   "outputs": [
    {
     "name": "stdout",
     "output_type": "stream",
     "text": [
      "2.14.0\n"
     ]
    }
   ],
   "source": [
    "print(tf.__version__)"
   ]
  },
  {
   "cell_type": "code",
   "execution_count": 6,
   "id": "535d9718-f2d2-452c-a2a7-d94d5d525c66",
   "metadata": {
    "tags": []
   },
   "outputs": [],
   "source": [
    "import numpy as np\n",
    "train = np.loadtxt('train.csv', skiprows=1, delimiter=',') # add dtype=int if it shows error in colab\n",
    "test=np.loadtxt('test.csv',skiprows=1,delimiter=',')"
   ]
  },
  {
   "cell_type": "code",
   "execution_count": null,
   "id": "e1e7d23f-9083-4600-928f-3ad5871ffc7b",
   "metadata": {},
   "outputs": [],
   "source": [
    "train[0]  #1st row- includes train label+train image "
   ]
  },
  {
   "cell_type": "code",
   "execution_count": 9,
   "id": "e32a9eac",
   "metadata": {},
   "outputs": [],
   "source": [
    "train_labels = train[:,0] # for last column\n",
    "train_images = train[:,1 :] # for all but last column\n",
    "test_images = test[:,:] # for last column"
   ]
  },
  {
   "cell_type": "code",
   "execution_count": 7,
   "id": "307c61b4-6897-4624-947c-f51cd8462034",
   "metadata": {},
   "outputs": [
    {
     "name": "stdout",
     "output_type": "stream",
     "text": [
      "(42000, 785) (28000, 784)\n",
      "785\n"
     ]
    }
   ],
   "source": [
    "print(train.shape,test.shape)\n",
    "print(len(train[13190]))"
   ]
  },
  {
   "cell_type": "code",
   "execution_count": 10,
   "id": "8bc00573",
   "metadata": {},
   "outputs": [
    {
     "data": {
      "text/plain": [
       "array([1., 0., 1., 4., 0., 0., 7., 3., 5., 3.])"
      ]
     },
     "execution_count": 10,
     "metadata": {},
     "output_type": "execute_result"
    }
   ],
   "source": [
    "train_labels[0:10]  #print first 10 train labels"
   ]
  },
  {
   "cell_type": "code",
   "execution_count": 40,
   "id": "a5a1cf90",
   "metadata": {},
   "outputs": [
    {
     "name": "stderr",
     "output_type": "stream",
     "text": [
      "UsageError: %%time is a cell magic, but the cell body is empty. Did you mean the line magic %time (single %)?\n"
     ]
    }
   ],
   "source": [
    "# %%time\n",
    "# count={}\n",
    "# for i in train_labels:\n",
    "# #     i=str(i)\n",
    "#     if i in count:\n",
    "#         count[i]+=1\n",
    "#     else:\n",
    "#         count[i]=1"
   ]
  },
  {
   "cell_type": "code",
   "execution_count": 44,
   "id": "5659ecbf",
   "metadata": {},
   "outputs": [
    {
     "data": {
      "text/plain": [
       "785"
      ]
     },
     "execution_count": 44,
     "metadata": {},
     "output_type": "execute_result"
    }
   ],
   "source": [
    "train_images.shape\n",
    "len(train[22946])"
   ]
  },
  {
   "cell_type": "code",
   "execution_count": 12,
   "id": "a7c398ee",
   "metadata": {},
   "outputs": [],
   "source": [
    "train_images=train_images.reshape(len(train_images),28,28,1) #42000 rows/dataset, each row having a array of 28*28 i.e 28 rows and 28 columns in gray scale-1, 3 for colour.   Also try to see for (len(train_images),28,14,2) \n",
    "test_images=test_images.reshape(len(test_images),28,28,1)\n"
   ]
  },
  {
   "cell_type": "code",
   "execution_count": 14,
   "id": "04e467c8",
   "metadata": {},
   "outputs": [
    {
     "data": {
      "image/png": "[encoded data removed]",
      "text/plain": [
       "<Figure size 1000x500 with 1 Axes>"
      ]
     },
     "metadata": {},
     "output_type": "display_data"
    }
   ],
   "source": [
    "import matplotlib.pyplot as plt\n",
    "plt.figure(figsize=(10,5))\n",
    "# for i in range(20):\n",
    "\n",
    "plt.imshow(train_images[0],cmap='gray')\n",
    "plt.title('y={}'.format(train_labels[0]))\n",
    "plt.axis('off')\n",
    "    \n",
    "# plt.tight_layout()\n",
    "plt.show()"
   ]
  },
  {
   "cell_type": "code",
   "execution_count": 15,
   "id": "2190fe1f",
   "metadata": {},
   "outputs": [],
   "source": [
    "train_images=train_images/255.0  #feature scaling b/w 0-1 to train the images easily\n",
    "test_images=test_images/255.0"
   ]
  },
  {
   "cell_type": "code",
   "execution_count": 17,
   "id": "af0dfa38",
   "metadata": {},
   "outputs": [
    {
     "data": {
      "text/plain": [
       "(28, 28, 1)"
      ]
     },
     "execution_count": 17,
     "metadata": {},
     "output_type": "execute_result"
    }
   ],
   "source": [
    "train_images[0].shape"
   ]
  },
  {
   "cell_type": "code",
   "execution_count": 18,
   "id": "1744dd2c",
   "metadata": {},
   "outputs": [],
   "source": [
    "# train_images[0]"
   ]
  },
  {
   "cell_type": "code",
   "execution_count": 19,
   "id": "6a5719c3",
   "metadata": {},
   "outputs": [],
   "source": [
    "def build_model(hp):\n",
    "    model= keras.Sequential([\n",
    "                    keras.layers.Conv2D(filters=hp.Int('conv_1_filter',min_value=32,max_value=128,step=16), #32 filters/kernels\n",
    "                                         kernel_size=hp.Choice('conv_1_kernel',values=[3,5]),\n",
    "                                         activation='relu',\n",
    "                                         input_shape=(28,28,1)\n",
    "                                         ),\n",
    "\n",
    "                    #adding second convolutional layer bec it helps in finding features in pictures in a better way/ more precise manner\n",
    "                    keras.layers.Conv2D(\n",
    "                        filters=hp.Int('conv_2_filter',min_value=32,max_value=128,step=16),\n",
    "                        kernel_size=hp.Choice('conv_2_kernel',values=[3,5]),\n",
    "                        activation='relu'\n",
    "                    ),\n",
    "#                     keras.layers.Conv2D(\n",
    "#                         filters=hp.Int('conv_3_filter',min_value=32,max_value=128,step=16),\n",
    "#                         kernel_size=hp.Choice('conv_3_kernel',values=[3,5]),\n",
    "#                         activation='relu'\n",
    "#                     ),\n",
    "                    keras.layers.Flatten(), #flatenning all the values of multiple small matrices after max pooling into a single vector column whihc acts as an input layer for ANN then\n",
    "                    keras.layers.Dense(\n",
    "                        units=hp.Int('dense_1_units',min_value=32,max_value=128,step=16),\n",
    "                        activation='relu'\n",
    "                    ),\n",
    "                    keras.layers.Dense(10,activation='softmax')\n",
    "                    ])\n",
    "    model.compile(optimizer=keras.optimizers.Adam(hp.Choice('learning_rate',values=[1e-2,1e-3])),\n",
    "              loss='sparse_categorical_crossentropy',\n",
    "              metrics=['accuracy'])\n",
    "    return model\n"
   ]
  },
  {
   "cell_type": "code",
   "execution_count": 20,
   "id": "54409760",
   "metadata": {},
   "outputs": [
    {
     "name": "stderr",
     "output_type": "stream",
     "text": [
      "/var/folders/k8/lsx1j9kj7p55q4qrhnfpz11r0000gn/T/ipykernel_8145/212572501.py:1: DeprecationWarning: `import kerastuner` is deprecated, please use `import keras_tuner`.\n",
      "  from kerastuner import RandomSearch  #to check which hyperparametrs are good for our model\n"
     ]
    }
   ],
   "source": [
    "from kerastuner import RandomSearch  #to check which hyperparametrs are good for our model\n",
    "# from kerastuner.engine.hyperparameters import HyperParameters\n",
    "from kerastuner.engine.hyperparameters import HyperParameter\n",
    "# from kerastuner.engine.hyperparameters import Hyperparameters"
   ]
  },
  {
   "cell_type": "code",
   "execution_count": 24,
   "id": "69bd7d58",
   "metadata": {},
   "outputs": [
    {
     "name": "stdout",
     "output_type": "stream",
     "text": [
      "Reloading Tuner from output/digit recognition/tuner0.json\n"
     ]
    }
   ],
   "source": [
    "tuner_search= RandomSearch(build_model,objective='val_accuracy', max_trials=5,directory='output', project_name='digit recognition')"
   ]
  },
  {
   "cell_type": "code",
   "execution_count": 25,
   "id": "70248b85",
   "metadata": {},
   "outputs": [
    {
     "name": "stdout",
     "output_type": "stream",
     "text": [
      "Trial 6 Complete [00h 03m 45s]\n",
      "val_accuracy: 0.9850000143051147\n",
      "\n",
      "Best val_accuracy So Far: 0.9892857074737549\n",
      "Total elapsed time: 00h 03m 45s\n"
     ]
    }
   ],
   "source": [
    "tuner_search.search(train_images,train_labels,epochs=3,validation_split=0.1) #default value of epochs=2"
   ]
  },
  {
   "cell_type": "code",
   "execution_count": 26,
   "id": "c7661280",
   "metadata": {},
   "outputs": [
    {
     "name": "stderr",
     "output_type": "stream",
     "text": [
      "WARNING:absl:At this time, the v2.11+ optimizer `tf.keras.optimizers.Adam` runs slowly on M1/M2 Macs, please use the legacy Keras optimizer instead, located at `tf.keras.optimizers.legacy.Adam`.\n"
     ]
    },
    {
     "name": "stdout",
     "output_type": "stream",
     "text": [
      "WARNING:tensorflow:Detecting that an object or model or tf.train.Checkpoint is being deleted with unrestored values. See the following logs for the specific values in question. To silence these warnings, use `status.expect_partial()`. See https://www.tensorflow.org/api_docs/python/tf/train/Checkpoint#restorefor details about the status object returned by the restore function.\n"
     ]
    },
    {
     "name": "stderr",
     "output_type": "stream",
     "text": [
      "WARNING:tensorflow:Detecting that an object or model or tf.train.Checkpoint is being deleted with unrestored values. See the following logs for the specific values in question. To silence these warnings, use `status.expect_partial()`. See https://www.tensorflow.org/api_docs/python/tf/train/Checkpoint#restorefor details about the status object returned by the restore function.\n"
     ]
    },
    {
     "name": "stdout",
     "output_type": "stream",
     "text": [
      "WARNING:tensorflow:Value in checkpoint could not be found in the restored object: (root).optimizer._variables.1\n"
     ]
    },
    {
     "name": "stderr",
     "output_type": "stream",
     "text": [
      "WARNING:tensorflow:Value in checkpoint could not be found in the restored object: (root).optimizer._variables.1\n"
     ]
    },
    {
     "name": "stdout",
     "output_type": "stream",
     "text": [
      "WARNING:tensorflow:Value in checkpoint could not be found in the restored object: (root).optimizer._variables.2\n"
     ]
    },
    {
     "name": "stderr",
     "output_type": "stream",
     "text": [
      "WARNING:tensorflow:Value in checkpoint could not be found in the restored object: (root).optimizer._variables.2\n"
     ]
    },
    {
     "name": "stdout",
     "output_type": "stream",
     "text": [
      "WARNING:tensorflow:Value in checkpoint could not be found in the restored object: (root).optimizer._variables.3\n"
     ]
    },
    {
     "name": "stderr",
     "output_type": "stream",
     "text": [
      "WARNING:tensorflow:Value in checkpoint could not be found in the restored object: (root).optimizer._variables.3\n"
     ]
    },
    {
     "name": "stdout",
     "output_type": "stream",
     "text": [
      "WARNING:tensorflow:Value in checkpoint could not be found in the restored object: (root).optimizer._variables.4\n"
     ]
    },
    {
     "name": "stderr",
     "output_type": "stream",
     "text": [
      "WARNING:tensorflow:Value in checkpoint could not be found in the restored object: (root).optimizer._variables.4\n"
     ]
    },
    {
     "name": "stdout",
     "output_type": "stream",
     "text": [
      "WARNING:tensorflow:Value in checkpoint could not be found in the restored object: (root).optimizer._variables.5\n"
     ]
    },
    {
     "name": "stderr",
     "output_type": "stream",
     "text": [
      "WARNING:tensorflow:Value in checkpoint could not be found in the restored object: (root).optimizer._variables.5\n"
     ]
    },
    {
     "name": "stdout",
     "output_type": "stream",
     "text": [
      "WARNING:tensorflow:Value in checkpoint could not be found in the restored object: (root).optimizer._variables.6\n"
     ]
    },
    {
     "name": "stderr",
     "output_type": "stream",
     "text": [
      "WARNING:tensorflow:Value in checkpoint could not be found in the restored object: (root).optimizer._variables.6\n"
     ]
    },
    {
     "name": "stdout",
     "output_type": "stream",
     "text": [
      "WARNING:tensorflow:Value in checkpoint could not be found in the restored object: (root).optimizer._variables.7\n"
     ]
    },
    {
     "name": "stderr",
     "output_type": "stream",
     "text": [
      "WARNING:tensorflow:Value in checkpoint could not be found in the restored object: (root).optimizer._variables.7\n"
     ]
    },
    {
     "name": "stdout",
     "output_type": "stream",
     "text": [
      "WARNING:tensorflow:Value in checkpoint could not be found in the restored object: (root).optimizer._variables.8\n"
     ]
    },
    {
     "name": "stderr",
     "output_type": "stream",
     "text": [
      "WARNING:tensorflow:Value in checkpoint could not be found in the restored object: (root).optimizer._variables.8\n"
     ]
    },
    {
     "name": "stdout",
     "output_type": "stream",
     "text": [
      "WARNING:tensorflow:Value in checkpoint could not be found in the restored object: (root).optimizer._variables.9\n"
     ]
    },
    {
     "name": "stderr",
     "output_type": "stream",
     "text": [
      "WARNING:tensorflow:Value in checkpoint could not be found in the restored object: (root).optimizer._variables.9\n"
     ]
    },
    {
     "name": "stdout",
     "output_type": "stream",
     "text": [
      "WARNING:tensorflow:Value in checkpoint could not be found in the restored object: (root).optimizer._variables.10\n"
     ]
    },
    {
     "name": "stderr",
     "output_type": "stream",
     "text": [
      "WARNING:tensorflow:Value in checkpoint could not be found in the restored object: (root).optimizer._variables.10\n"
     ]
    },
    {
     "name": "stdout",
     "output_type": "stream",
     "text": [
      "WARNING:tensorflow:Value in checkpoint could not be found in the restored object: (root).optimizer._variables.11\n"
     ]
    },
    {
     "name": "stderr",
     "output_type": "stream",
     "text": [
      "WARNING:tensorflow:Value in checkpoint could not be found in the restored object: (root).optimizer._variables.11\n"
     ]
    },
    {
     "name": "stdout",
     "output_type": "stream",
     "text": [
      "WARNING:tensorflow:Value in checkpoint could not be found in the restored object: (root).optimizer._variables.12\n"
     ]
    },
    {
     "name": "stderr",
     "output_type": "stream",
     "text": [
      "WARNING:tensorflow:Value in checkpoint could not be found in the restored object: (root).optimizer._variables.12\n"
     ]
    },
    {
     "name": "stdout",
     "output_type": "stream",
     "text": [
      "WARNING:tensorflow:Value in checkpoint could not be found in the restored object: (root).optimizer._variables.13\n"
     ]
    },
    {
     "name": "stderr",
     "output_type": "stream",
     "text": [
      "WARNING:tensorflow:Value in checkpoint could not be found in the restored object: (root).optimizer._variables.13\n"
     ]
    },
    {
     "name": "stdout",
     "output_type": "stream",
     "text": [
      "WARNING:tensorflow:Value in checkpoint could not be found in the restored object: (root).optimizer._variables.14\n"
     ]
    },
    {
     "name": "stderr",
     "output_type": "stream",
     "text": [
      "WARNING:tensorflow:Value in checkpoint could not be found in the restored object: (root).optimizer._variables.14\n"
     ]
    },
    {
     "name": "stdout",
     "output_type": "stream",
     "text": [
      "WARNING:tensorflow:Value in checkpoint could not be found in the restored object: (root).optimizer._variables.15\n"
     ]
    },
    {
     "name": "stderr",
     "output_type": "stream",
     "text": [
      "WARNING:tensorflow:Value in checkpoint could not be found in the restored object: (root).optimizer._variables.15\n"
     ]
    },
    {
     "name": "stdout",
     "output_type": "stream",
     "text": [
      "WARNING:tensorflow:Value in checkpoint could not be found in the restored object: (root).optimizer._variables.16\n"
     ]
    },
    {
     "name": "stderr",
     "output_type": "stream",
     "text": [
      "WARNING:tensorflow:Value in checkpoint could not be found in the restored object: (root).optimizer._variables.16\n"
     ]
    }
   ],
   "source": [
    "model=tuner_search.get_best_models(num_models=1)[0]  "
   ]
  },
  {
   "cell_type": "code",
   "execution_count": 27,
   "id": "2a8a5270",
   "metadata": {},
   "outputs": [
    {
     "name": "stdout",
     "output_type": "stream",
     "text": [
      "Model: \"sequential\"\n",
      "_________________________________________________________________\n",
      " Layer (type)                Output Shape              Param #   \n",
      "=================================================================\n",
      " conv2d (Conv2D)             (None, 24, 24, 64)        1664      \n",
      "                                                                 \n",
      " conv2d_1 (Conv2D)           (None, 22, 22, 32)        18464     \n",
      "                                                                 \n",
      " flatten (Flatten)           (None, 15488)             0         \n",
      "                                                                 \n",
      " dense (Dense)               (None, 112)               1734768   \n",
      "                                                                 \n",
      " dense_1 (Dense)             (None, 10)                1130      \n",
      "                                                                 \n",
      "=================================================================\n",
      "Total params: 1756026 (6.70 MB)\n",
      "Trainable params: 1756026 (6.70 MB)\n",
      "Non-trainable params: 0 (0.00 Byte)\n",
      "_________________________________________________________________\n"
     ]
    }
   ],
   "source": [
    "model.summary()"
   ]
  },
  {
   "cell_type": "code",
   "execution_count": 28,
   "id": "78b67483",
   "metadata": {},
   "outputs": [],
   "source": [
    "#output shape: (batch size, height, weight, depth). Here it is convo2d layer as (none,24,24,64). Since there are no batches we now in advance so none, else when we change the batch size, it will change"
   ]
  },
  {
   "cell_type": "code",
   "execution_count": 30,
   "id": "0f8d98f5",
   "metadata": {},
   "outputs": [
    {
     "name": "stdout",
     "output_type": "stream",
     "text": [
      "Epoch 10/12\n",
      "1182/1182 [==============================] - 25s 21ms/step - loss: 0.0076 - accuracy: 0.9978 - val_loss: 0.0611 - val_accuracy: 0.9876\n",
      "Epoch 11/12\n",
      "1182/1182 [==============================] - 24s 21ms/step - loss: 0.0017 - accuracy: 0.9996 - val_loss: 0.0634 - val_accuracy: 0.9869\n",
      "Epoch 12/12\n",
      "1182/1182 [==============================] - 25s 21ms/step - loss: 0.0067 - accuracy: 0.9980 - val_loss: 0.0833 - val_accuracy: 0.9876\n"
     ]
    },
    {
     "data": {
      "text/plain": [
       "<keras.src.callbacks.History at 0x2dcea2250>"
      ]
     },
     "execution_count": 30,
     "metadata": {},
     "output_type": "execute_result"
    }
   ],
   "source": [
    "model.fit(train_images,train_labels,epochs=12,validation_split=0.1, initial_epoch=9) \n",
    "#to check for 10 epochs, when first 3 epochs we have already done. Epoch at which to start training (useful for resuming a previous training run).\n",
    "#mostly useful when you have trained your model for some epochs, say 10, and then saved it and now you want to load it and resume the training for another 10 epochs without disrupting the state of epoch-dependent objects (e.g. optimizer)"
   ]
  },
  {
   "cell_type": "code",
   "execution_count": 69,
   "id": "c8f7e8c0",
   "metadata": {},
   "outputs": [
    {
     "name": "stdout",
     "output_type": "stream",
     "text": [
      "875/875 [==============================] - 4s 5ms/step\n"
     ]
    }
   ],
   "source": [
    "result=model.predict(test_images)"
   ]
  },
  {
   "cell_type": "code",
   "execution_count": 70,
   "id": "0b2d2542",
   "metadata": {},
   "outputs": [
    {
     "data": {
      "image/png": "[encoded data removed]",
      "text/plain": [
       "<Figure size 1000x500 with 1 Axes>"
      ]
     },
     "metadata": {},
     "output_type": "display_data"
    }
   ],
   "source": [
    "import matplotlib.pyplot as plt\n",
    "plt.figure(figsize=(10,5))\n",
    "# for i in range(20):\n",
    "\n",
    "plt.imshow(test_images[0],cmap='gray')\n",
    "plt.title('y={}'.format(np.argmax(result[0])))\n",
    "plt.axis('off')\n",
    "    \n",
    "# plt.tight_layout()\n",
    "plt.show()"
   ]
  },
  {
   "cell_type": "code",
   "execution_count": 161,
   "id": "a0e450f5",
   "metadata": {},
   "outputs": [
    {
     "data": {
      "text/plain": [
       "(28000, 10)"
      ]
     },
     "execution_count": 161,
     "metadata": {},
     "output_type": "execute_result"
    }
   ],
   "source": [
    "result.shape"
   ]
  },
  {
   "cell_type": "code",
   "execution_count": 164,
   "id": "8bb9c1a9",
   "metadata": {},
   "outputs": [
    {
     "name": "stdout",
     "output_type": "stream",
     "text": [
      "1313/1313 [==============================] - 6s 5ms/step\n",
      "1 1.0\n",
      "0 0.0\n",
      "1 1.0\n",
      "4 4.0\n",
      "0 0.0\n",
      "0 0.0\n",
      "7 7.0\n",
      "3 3.0\n",
      "5 5.0\n",
      "3 3.0\n",
      "8 8.0\n",
      "9 9.0\n",
      "1 1.0\n",
      "3 3.0\n",
      "3 3.0\n",
      "1 1.0\n",
      "2 2.0\n",
      "0 0.0\n",
      "7 7.0\n",
      "5 5.0\n",
      "8 8.0\n",
      "6 6.0\n",
      "2 2.0\n",
      "0 0.0\n",
      "2 2.0\n",
      "3 3.0\n",
      "6 6.0\n",
      "9 9.0\n",
      "9 9.0\n",
      "7 7.0\n"
     ]
    }
   ],
   "source": [
    "result2=model.predict(train_images)\n",
    "for i in range(30):\n",
    "    print(np.argmax(result2[i]),train_labels[i])"
   ]
  },
  {
   "cell_type": "code",
   "execution_count": null,
   "id": "c2eb9223",
   "metadata": {},
   "outputs": [],
   "source": []
  }
 ],
 "metadata": {
  "kernelspec": {
   "display_name": "Python 3 (ipykernel)",
   "language": "python",
   "name": "python3"
  },
  "language_info": {
   "codemirror_mode": {
    "name": "ipython",
    "version": 3
   },
   "file_extension": ".py",
   "mimetype": "text/x-python",
   "name": "python",
   "nbconvert_exporter": "python",
   "pygments_lexer": "ipython3",
   "version": "3.11.7"
  }
 },
 "nbformat": 4,
 "nbformat_minor": 5
}
